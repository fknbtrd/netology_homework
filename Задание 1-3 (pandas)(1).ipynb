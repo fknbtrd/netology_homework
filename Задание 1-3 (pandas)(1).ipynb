{
  "nbformat": 4,
  "nbformat_minor": 0,
  "metadata": {
    "colab": {
      "provenance": [],
      "authorship_tag": "ABX9TyOO7D7Dqaf93ZvXXK/IUJBW",
      "include_colab_link": true
    },
    "kernelspec": {
      "name": "python3",
      "display_name": "Python 3"
    },
    "language_info": {
      "name": "python"
    }
  },
  "cells": [
    {
      "cell_type": "markdown",
      "metadata": {
        "id": "view-in-github",
        "colab_type": "text"
      },
      "source": [
        "<a href=\"https://colab.research.google.com/github/fknbtrd/netology_homework/blob/main/%D0%97%D0%B0%D0%B4%D0%B0%D0%BD%D0%B8%D0%B5%201-3%20(pandas)(1).ipynb\" target=\"_parent\"><img src=\"https://colab.research.google.com/assets/colab-badge.svg\" alt=\"Open In Colab\"/></a>"
      ]
    },
    {
      "cell_type": "code",
      "source": [
        "import pandas as pd\n",
        "import requests\n",
        "\n",
        "# Выбираем сайт с таблицами\n",
        "url = \"https://fortrader.org/quotes\"\n",
        "\n",
        "# Скачиваем страницу\n",
        "html = requests.get(url).text\n",
        "\n",
        "# Ищем таблицы прямо в HTML\n",
        "tables = pd.read_html(html)\n",
        "\n",
        "# Сохраняем каждую таблицу\n",
        "for i, df in enumerate(tables, 1):\n",
        "    print(f\"\\nТаблица {i}:\")\n",
        "    print(df.head(5))  # Показываем первые 5 строк\n",
        "\n",
        "    # Сохраняем в CSV\n",
        "    df.to_csv(f'table_{i}.csv', index=False)\n",
        "    print(f\"Сохранено в table_{i}.csv\")"
      ],
      "metadata": {
        "colab": {
          "base_uri": "https://localhost:8080/"
        },
        "id": "JSNA2urJbClT",
        "outputId": "5538fc68-e0cd-40ce-d64e-7f141fd52e5e"
      },
      "execution_count": 27,
      "outputs": [
        {
          "output_type": "stream",
          "name": "stdout",
          "text": [
            "\n",
            "Таблица 1:\n",
            "                           Название   Цена  Изменение  Изменение(%)  Обновлено\n",
            "0  EURRUB Курс евро к рублю сегодня  89.48        0.0           0.0        NaN\n",
            "1       USDRUB Курс рубля к доллару  79.34        0.0           0.0        NaN\n",
            "Сохранено в table_1.csv\n",
            "\n",
            "Таблица 2:\n",
            "                              Название   Цена  Изменение  Изменение(%)  \\\n",
            "0       Нефть Brent Курс нефти сегодня  64.96      -0.01         -0.02   \n",
            "1          Нефть WTI Цены на нефть WTI  61.71      -0.01         -0.02   \n",
            "2  Природный газ Цена на природный газ   3.70       0.00         -0.03   \n",
            "3                               Хлопок  66.06       0.00          0.00   \n",
            "4             Сахар котировки на сахар  17.31       0.00          0.00   \n",
            "\n",
            "   Обновлено  \n",
            "0        NaN  \n",
            "1        NaN  \n",
            "2        NaN  \n",
            "3        NaN  \n",
            "4        NaN  \n",
            "Сохранено в table_2.csv\n",
            "\n",
            "Таблица 3:\n",
            "                           Название   Цена  Изменение  Изменение(%)  Обновлено\n",
            "0       Золото Цена золота на бирже  3 361        0.0           0.0        NaN\n",
            "1  Серебро Цена на серебро на бирже  33.51        0.0           0.0        NaN\n",
            "2         Палладий Цена на Палладий  1 000       -1.0           0.0        NaN\n",
            "3           Платина Цены на платину  1 090        0.0           0.0        NaN\n",
            "4           Медь Цена меди на бирже   4.86        0.0           0.0        NaN\n",
            "Сохранено в table_3.csv\n",
            "\n",
            "Таблица 4:\n",
            "                            Название    Цена Изменение Изменение(%)  Обновлено\n",
            "0        Google Акции Google (GOOGL)  168.39     -0.08        -0.05        NaN\n",
            "1                     eBay eBay Inc.   71.83     -0.09        -0.13        NaN\n",
            "2                IBM Акции IBM (IBM)  258.79     +0.16        +0.06        NaN\n",
            "3  Microsoft Акции Майкрософт (MSFT)  450.12     -0.06        -0.01        NaN\n",
            "4           Apple Акции Apple (AAPL)  195.29     +0.02        +0.01        NaN\n",
            "Сохранено в table_4.csv\n",
            "\n",
            "Таблица 5:\n",
            "                                  Название       Цена  Изменение  \\\n",
            "0  Индекс МосБиржи Индекс МосБиржи (IMOEX)    277 100          0   \n",
            "1             Индекс РТС Индекс РТС (RTSI)   1 094.76       0.00   \n",
            "2               Dow Jones Индекс Dow Jones       1.10       0.00   \n",
            "3                   S&P 500 Индекс S&P 500      5 814          0   \n",
            "4             Nasdaq 100 Индекс Nasdaq 100  15 844.50  -5 110.50   \n",
            "\n",
            "   Изменение(%)  Обновлено  \n",
            "0          0.00        NaN  \n",
            "1          0.00        NaN  \n",
            "2          0.00        NaN  \n",
            "3          0.00        NaN  \n",
            "4        -24.39        NaN  \n",
            "Сохранено в table_5.csv\n",
            "\n",
            "Таблица 6:\n",
            "                    Название       Цена  Изменение  Изменение(%)  Обновлено\n",
            "0  EUR/USD Евро / Доллар США    1.13608    0.00017       0.01497        NaN\n",
            "1  GBP/USD Фунт / Доллар США    1.35390    0.00000       0.00000        NaN\n",
            "2     USD/CHF Доллар / Франк    0.82081    0.00018       0.02193        NaN\n",
            "3  USD/JPY Доллар США / Иена  142.55100   -0.00800      -0.00600        NaN\n",
            "4      USD/CNH Доллар / Юань    7.17181    0.00324       0.04520        NaN\n",
            "Сохранено в table_6.csv\n",
            "\n",
            "Таблица 7:\n",
            "                                            Название         Цена  Изменение  \\\n",
            "0                              Bitcoin Курс биткоина  107 361.000 -789.00000   \n",
            "1         Litecoin Курс лайткоин к доллару (LTC/USD)       94.445   -0.97800   \n",
            "2  BitcoinCash Курс Биткоин кеш к доллару США (BC...       243.84  -79.16000   \n",
            "3                                          Dash Dash       23.007   -0.16600   \n",
            "4                                      Ripple Ripple      2.29864   -0.02637   \n",
            "\n",
            "   Изменение(%)  Обновлено  \n",
            "0      -0.73000        NaN  \n",
            "1      -1.02500        NaN  \n",
            "2     -24.51000        NaN  \n",
            "3      -0.71600        NaN  \n",
            "4      -1.13419        NaN  \n",
            "Сохранено в table_7.csv\n"
          ]
        },
        {
          "output_type": "stream",
          "name": "stderr",
          "text": [
            "<ipython-input-27-9c6db525d9ce>:11: FutureWarning: Passing literal html to 'read_html' is deprecated and will be removed in a future version. To read from a literal string, wrap it in a 'StringIO' object.\n",
            "  tables = pd.read_html(html)\n"
          ]
        }
      ]
    },
    {
      "cell_type": "code",
      "source": [],
      "metadata": {
        "id": "LG6XrGPPdTIC"
      },
      "execution_count": null,
      "outputs": []
    }
  ]
}