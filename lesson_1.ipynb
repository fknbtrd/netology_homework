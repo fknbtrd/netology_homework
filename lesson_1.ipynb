{
  "nbformat": 4,
  "nbformat_minor": 0,
  "metadata": {
    "colab": {
      "provenance": [],
      "authorship_tag": "ABX9TyMnaYV5cnaW+SX4TU+zsaWI",
      "include_colab_link": true
    },
    "kernelspec": {
      "name": "python3",
      "display_name": "Python 3"
    },
    "language_info": {
      "name": "python"
    }
  },
  "cells": [
    {
      "cell_type": "markdown",
      "metadata": {
        "id": "view-in-github",
        "colab_type": "text"
      },
      "source": [
        "<a href=\"https://colab.research.google.com/github/fknbtrd/netology_homework/blob/main/lesson_1.ipynb\" target=\"_parent\"><img src=\"https://colab.research.google.com/assets/colab-badge.svg\" alt=\"Open In Colab\"/></a>"
      ]
    },
    {
      "cell_type": "code",
      "execution_count": null,
      "metadata": {
        "colab": {
          "base_uri": "https://localhost:8080/"
        },
        "id": "XvGkOakdzfJk",
        "outputId": "77807378-45ef-46dc-9829-7f4ca9966a5f"
      },
      "outputs": [
        {
          "output_type": "stream",
          "name": "stdout",
          "text": [
            "Фраза 1 длинее фразы 2\n"
          ]
        }
      ],
      "source": [
        "#Задание 1\n",
        "phrase_1 = 'Насколько проще было бы писать программы, если бы не заказчики'\n",
        "phrase_2 = '640Кб должно хватить для любых задач. Билл Гейтс (по легенде)'\n",
        "\n",
        "if len(phrase_1) > len(phrase_2):\n",
        "    print('Фраза 1 длинее фразы 2')\n",
        "elif len(phrase_1) < len(phrase_2):\n",
        "    print('Фраза 2 длинее фразы 1')\n",
        "else:\n",
        "    print('Фразы равной длины')"
      ]
    },
    {
      "cell_type": "code",
      "source": [
        "#Задание 2\n",
        "year = 2020\n",
        "#year = 2019\n",
        "\n",
        "if (year % 4 == 0 and year % 100 != 0) or (year % 400 == 0):\n",
        "    print('Високосный год')\n",
        "else:\n",
        "    print('Обычный год')"
      ],
      "metadata": {
        "colab": {
          "base_uri": "https://localhost:8080/"
        },
        "id": "ZOAosyhuEyAd",
        "outputId": "5639b41a-6dad-4c84-c739-746f5fc8c9eb"
      },
      "execution_count": null,
      "outputs": [
        {
          "output_type": "stream",
          "name": "stdout",
          "text": [
            "Високосный год\n"
          ]
        }
      ]
    },
    {
      "cell_type": "code",
      "source": [
        "#Задание 3\n",
        "guess_day = int(input('Введите день: '))\n",
        "guess_month = input('Введите месяц: ').strip().capitalize()\n",
        "\n",
        "# Определяем знак зодиака\n",
        "if (guess_month == 'Март' and guess_day >= 21) or (guess_month == 'Апрель' and guess_day <= 19):\n",
        "    zodiac = 'Овен'\n",
        "elif (guess_month == 'Апрель' and guess_day >= 20) or (guess_month == 'Май' and guess_day <= 20):\n",
        "    zodiac = 'Телец'\n",
        "elif (guess_month == 'Май' and guess_day >= 21) or (guess_month == 'Июнь' and guess_day <= 20):\n",
        "    zodiac = 'Близнецы'\n",
        "elif (guess_month == 'Июнь' and guess_day >= 21) or (guess_month == 'Июль' and guess_day <= 22):\n",
        "    zodiac = 'Рак'\n",
        "elif (guess_month == 'Июль' and guess_day >= 23) or (guess_month == 'Август' and guess_day <= 22):\n",
        "    zodiac = 'Лев'\n",
        "elif (guess_month == 'Август' and guess_day >= 23) or (guess_month == 'Сентябрь' and guess_day <= 22):\n",
        "    zodiac = 'Дева'\n",
        "elif (guess_month == 'Сентябрь' and guess_day >= 23) or (guess_month == 'Октябрь' and guess_day <= 22):\n",
        "    zodiac = 'Весы'\n",
        "elif (guess_month == 'Октябрь' and guess_day >= 23) or (guess_month == 'Ноябрь' and guess_day <= 21):\n",
        "    zodiac = 'Скорпион'\n",
        "elif (guess_month == 'Ноябрь' and guess_day >= 22) or (guess_month == 'Декабрь' and guess_day <= 21):\n",
        "    zodiac = 'Стрелец'\n",
        "elif (guess_month == 'Декабрь' and guess_day >= 22) or (guess_month == 'Январь' and guess_day <= 19):\n",
        "    zodiac = 'Козерог'\n",
        "elif (guess_month == 'Январь' and guess_day >= 20) or (guess_month == 'Февраль' and guess_day <= 18):\n",
        "    zodiac = 'Водолей'\n",
        "elif (guess_month == 'Февраль' and guess_day >= 19) or (guess_month == 'Март' and guess_day <= 20):\n",
        "    zodiac = 'Рыбы'\n",
        "else:\n",
        "    zodiac = 'Проверь дату'\n",
        "\n",
        "# Выводим результат\n",
        "print('Ваш знак зодиака:', zodiac)\n"
      ],
      "metadata": {
        "colab": {
          "base_uri": "https://localhost:8080/"
        },
        "id": "uLGLb071K5eB",
        "outputId": "4d7a304e-84ec-4aed-80a9-d987944116d9"
      },
      "execution_count": null,
      "outputs": [
        {
          "output_type": "stream",
          "name": "stdout",
          "text": [
            "Введите день: 28\n",
            "Введите месяц: август\n",
            "Ваш знак зодиака: Дева\n"
          ]
        }
      ]
    },
    {
      "cell_type": "code",
      "source": [
        "#Задание 4\n",
        "width = int(input('Введите ширину: '))\n",
        "length = int(input('Введите длину: '))\n",
        "height = int(input('Введите высоту: '))\n",
        "\n",
        "if width > 200 or length > 200 or height > 200:\n",
        "    print('Упаковка для лыж')\n",
        "elif width <= 15 and length <= 15 and height <= 15:\n",
        "    print('Коробка №1')\n",
        "elif (15 < width < 50) or (15 < length < 50) or (15 < height < 50):\n",
        "    print('Коробка №2')\n",
        "else:  # Во всех остальных случаях\n",
        "    print('Коробка №3')\n"
      ],
      "metadata": {
        "colab": {
          "base_uri": "https://localhost:8080/"
        },
        "id": "htoNmaWkumXG",
        "outputId": "342f252a-ae9d-4f63-ea4a-85ca5d0a41bc"
      },
      "execution_count": null,
      "outputs": [
        {
          "output_type": "stream",
          "name": "stdout",
          "text": [
            "Введите ширину (см): 100\n",
            "Введите длину (см): 100\n",
            "Введите высоту (см): 200\n",
            "Коробка №3\n"
          ]
        }
      ]
    },
    {
      "cell_type": "code",
      "source": [],
      "metadata": {
        "id": "Y--F7-NrutFx"
      },
      "execution_count": null,
      "outputs": []
    }
  ]
}