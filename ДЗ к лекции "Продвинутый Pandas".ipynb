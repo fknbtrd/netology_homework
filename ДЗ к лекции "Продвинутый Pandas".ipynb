{
  "nbformat": 4,
  "nbformat_minor": 0,
  "metadata": {
    "colab": {
      "provenance": [],
      "authorship_tag": "ABX9TyM+EnhswQFdTklvZ1VMgcZs",
      "include_colab_link": true
    },
    "kernelspec": {
      "name": "python3",
      "display_name": "Python 3"
    },
    "language_info": {
      "name": "python"
    }
  },
  "cells": [
    {
      "cell_type": "markdown",
      "metadata": {
        "id": "view-in-github",
        "colab_type": "text"
      },
      "source": [
        "<a href=\"https://colab.research.google.com/github/fknbtrd/netology_homework/blob/main/%D0%94%D0%97%20%D0%BA%20%D0%BB%D0%B5%D0%BA%D1%86%D0%B8%D0%B8%20%22%D0%9F%D1%80%D0%BE%D0%B4%D0%B2%D0%B8%D0%BD%D1%83%D1%82%D1%8B%D0%B9%20Pandas%22.ipynb\" target=\"_parent\"><img src=\"https://colab.research.google.com/assets/colab-badge.svg\" alt=\"Open In Colab\"/></a>"
      ]
    },
    {
      "cell_type": "code",
      "source": [
        "import pandas as pd\n",
        "\n",
        "# Чтение данных\n",
        "df = pd.read_csv('visit_log.csv', sep=';')\n",
        "\n",
        "# Создание столбца source_type по правилам\n",
        "def set_source_type(row):\n",
        "    if row['traffic_source'] in ['yandex', 'google']:\n",
        "        return 'organic'\n",
        "    elif row['traffic_source'] in ['paid', 'email']:\n",
        "        if row['region'] == 'Russia':\n",
        "            return 'ad'\n",
        "        else:\n",
        "            return 'other'\n",
        "    else:\n",
        "        return row['traffic_source']\n",
        "\n",
        "df['source_type'] = df.apply(set_source_type, axis=1)\n",
        "\n",
        "# Просмотр результата\n",
        "print(df[['traffic_source', 'region', 'source_type']].head(20))"
      ],
      "metadata": {
        "colab": {
          "base_uri": "https://localhost:8080/"
        },
        "id": "1ZxIk-XC7Nxr",
        "outputId": "5ed6f788-6db8-49e2-8a38-a2f5755320f2"
      },
      "execution_count": 9,
      "outputs": [
        {
          "output_type": "stream",
          "name": "stdout",
          "text": [
            "   traffic_source   region source_type\n",
            "0          yandex   Russia     organic\n",
            "1          direct   Russia      direct\n",
            "2          yandex   Russia     organic\n",
            "3          yandex   Russia     organic\n",
            "4          yandex   Russia     organic\n",
            "5          yandex   Russia     organic\n",
            "6            paid   Russia          ad\n",
            "7          direct   Russia      direct\n",
            "8          direct    China      direct\n",
            "9           email   Russia          ad\n",
            "10         direct    India      direct\n",
            "11         google  Ukraine     organic\n",
            "12           paid   Russia          ad\n",
            "13         direct    China      direct\n",
            "14         direct  Belarus      direct\n",
            "15           paid  Belarus       other\n",
            "16         google   Russia     organic\n",
            "17           paid  Ukraine       other\n",
            "18         direct  Belarus      direct\n",
            "19         direct  Belarus      direct\n"
          ]
        }
      ]
    },
    {
      "cell_type": "code",
      "source": [
        "import pandas as pd\n",
        "\n",
        "# Читаем файл с URL-адресами в датафрейм\n",
        "df = pd.read_csv('URLs.txt')\n",
        "\n",
        "# Фильтруем URL-адреса, оставляя только новостные статьи\n",
        "news_df = df[df['url'].str.contains(r'/\\d{8}-')]\n",
        "\n",
        "# Выводим результат\n",
        "print(\"Страницы с новостями:\")\n",
        "print(news_df)"
      ],
      "metadata": {
        "colab": {
          "base_uri": "https://localhost:8080/"
        },
        "id": "1J-w7Sna-gwR",
        "outputId": "1da56ae5-17b7-419f-a743-ba0eb9f8d03c"
      },
      "execution_count": null,
      "outputs": [
        {
          "output_type": "stream",
          "name": "stdout",
          "text": [
            "Страницы с новостями:\n",
            "                                                  url\n",
            "3   /politics/36188461-s-marta-zhizn-rossiyan-susc...\n",
            "4   /world/36007585-tramp-pridumal-kak-reshit-ukra...\n",
            "5   /science/36157853-nasa-sobiraet-ekstrennuyu-pr...\n",
            "6   /video/36001498-poyavilis-pervye-podrobnosti-g...\n",
            "7   /world/36007585-tramp-pridumal-kak-reshit-ukra...\n",
            "..                                                ...\n",
            "88  /cis/35984145-kreml-prokommentiroval-soobschen...\n",
            "89  /video/36071019-olimpiyskie-obekty-rio-prevrat...\n",
            "90  /science/36151301-nazvano-posledstvie-zloupotr...\n",
            "91  /incidents/36027330-vospitatelnitsu-zatravili-...\n",
            "92  /world/36103095-dominikanskih-zhurnalistov-ubi...\n",
            "\n",
            "[84 rows x 1 columns]\n"
          ]
        }
      ]
    },
    {
      "cell_type": "code",
      "source": [
        "import pandas as pd\n",
        "\n",
        "# Загрузка данных\n",
        "df = pd.read_csv('ratings.csv')\n",
        "\n",
        "# 1. Создаём таблицу с статистикой по пользователям\n",
        "user_stats = df.groupby('userId').agg(\n",
        "    num_ratings=('rating', 'count'),\n",
        "    first_rating=('timestamp', 'min'),\n",
        "    last_rating=('timestamp', 'max')\n",
        ")\n",
        "\n",
        "# 2. Фильтруем активных пользователей (>100 оценок)\n",
        "active_users = user_stats.loc[user_stats['num_ratings'] > 100].copy()\n",
        "\n",
        "# 3. Проверка на наличие активных пользователей\n",
        "if active_users.empty:\n",
        "    print(\"В данных нет пользователей с более чем 100 оценками\")\n",
        "else:\n",
        "    # Добавляем столбец с временем жизни (в секундах)\n",
        "    active_users.loc[:, 'lifetime_sec'] = active_users['last_rating'] - active_users['first_rating']\n",
        "\n",
        "    # 4. Рассчитываем среднее время жизни\n",
        "    average_lifetime_sec = active_users['lifetime_sec'].mean()\n",
        "    average_lifetime_days = average_lifetime_sec / 86400  # Перевод в дни\n",
        "\n",
        "    # Вывод результатов\n",
        "    print(f\"Найдено {len(active_users)} активных пользователей (более 100 оценок)\")\n",
        "    print(f\"Среднее время жизни активных пользователей:\")\n",
        "    print(f\"- В секундах: {average_lifetime_sec:.0f}\")\n",
        "    print(f\"- В днях: {average_lifetime_days:.1f}\")"
      ],
      "metadata": {
        "id": "plqisFG2BsR8",
        "colab": {
          "base_uri": "https://localhost:8080/"
        },
        "outputId": "2b291878-150d-4285-c4f1-142ac369a1ae"
      },
      "execution_count": 12,
      "outputs": [
        {
          "output_type": "stream",
          "name": "stdout",
          "text": [
            "Найдено 258 активных пользователей (более 100 оценок)\n",
            "Среднее время жизни активных пользователей:\n",
            "- В секундах: 40080507\n",
            "- В днях: 463.9\n"
          ]
        }
      ]
    },
    {
      "cell_type": "code",
      "source": [
        "import pandas as pd\n",
        "\n",
        "rzd = pd.DataFrame({\n",
        "    'client_id': [111, 112, 113, 114, 115],\n",
        "    'rzd_revenue': [1893, 2818, 18283, 5774, 981]\n",
        "})\n",
        "\n",
        "auto = pd.DataFrame({\n",
        "    'client_id': [113, 114, 115, 116, 117],\n",
        "    'auto_revenue': [57483, 83, 912, 4834, 98]\n",
        "})\n",
        "\n",
        "air = pd.DataFrame({\n",
        "    'client_id': [115, 116, 117, 118],\n",
        "    'air_revenue': [81, 4, 13, 173]\n",
        "})\n",
        "\n",
        "client_base = pd.DataFrame({\n",
        "    'client_id': [111, 112, 113, 114, 115, 116, 117, 118],\n",
        "    'address': ['Комсомольская 4', 'Энтузиастов 88', 'Левобережная 18', 'Мира 14', 'ЭЖБИЦЕК 1',\n",
        "               'строителей 18', 'Панфиловская 33', 'Мастеркова 4']\n",
        "})\n",
        "\n",
        "# 1. Объединяем все данные о выручке\n",
        "revenue_data = pd.concat([rzd.set_index('client_id'), auto.set_index('client_id'), air.set_index('client_id')], axis=1).fillna(0).reset_index()\n",
        "\n",
        "# 2. Добавляем адреса\n",
        "revenue_with_address = revenue_data.merge(client_base, on='client_id', how='left')\n",
        "\n",
        "# Результаты\n",
        "print(\"Таблица с выручкой без адреса:\")\n",
        "print(revenue_data[['client_id', 'rzd_revenue', 'auto_revenue', 'air_revenue']])\n",
        "\n",
        "print(\"\\nТаблица с выручкой и адресами:\")\n",
        "print(revenue_with_address[['client_id', 'rzd_revenue', 'auto_revenue', 'air_revenue', 'address']])"
      ],
      "metadata": {
        "colab": {
          "base_uri": "https://localhost:8080/"
        },
        "id": "0cvHv-IhFjk7",
        "outputId": "ab7d4424-5288-469c-928f-7eff5caad187"
      },
      "execution_count": 14,
      "outputs": [
        {
          "output_type": "stream",
          "name": "stdout",
          "text": [
            "Таблица с выручкой без адреса:\n",
            "   client_id  rzd_revenue  auto_revenue  air_revenue\n",
            "0        111       1893.0           0.0          0.0\n",
            "1        112       2818.0           0.0          0.0\n",
            "2        113      18283.0       57483.0          0.0\n",
            "3        114       5774.0          83.0          0.0\n",
            "4        115        981.0         912.0         81.0\n",
            "5        116          0.0        4834.0          4.0\n",
            "6        117          0.0          98.0         13.0\n",
            "7        118          0.0           0.0        173.0\n",
            "\n",
            "Таблица с выручкой и адресами:\n",
            "   client_id  rzd_revenue  auto_revenue  air_revenue          address\n",
            "0        111       1893.0           0.0          0.0  Комсомольская 4\n",
            "1        112       2818.0           0.0          0.0   Энтузиастов 88\n",
            "2        113      18283.0       57483.0          0.0  Левобережная 18\n",
            "3        114       5774.0          83.0          0.0          Мира 14\n",
            "4        115        981.0         912.0         81.0        ЭЖБИЦЕК 1\n",
            "5        116          0.0        4834.0          4.0    строителей 18\n",
            "6        117          0.0          98.0         13.0  Панфиловская 33\n",
            "7        118          0.0           0.0        173.0     Мастеркова 4\n"
          ]
        }
      ]
    }
  ]
}