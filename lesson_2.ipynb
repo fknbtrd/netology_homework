{
  "nbformat": 4,
  "nbformat_minor": 0,
  "metadata": {
    "colab": {
      "provenance": [],
      "authorship_tag": "ABX9TyOmhCCHmh4nZrvQM4ar7f7b",
      "include_colab_link": true
    },
    "kernelspec": {
      "name": "python3",
      "display_name": "Python 3"
    },
    "language_info": {
      "name": "python"
    }
  },
  "cells": [
    {
      "cell_type": "markdown",
      "metadata": {
        "id": "view-in-github",
        "colab_type": "text"
      },
      "source": [
        "<a href=\"https://colab.research.google.com/github/fknbtrd/netology_homework/blob/main/lesson_2.ipynb\" target=\"_parent\"><img src=\"https://colab.research.google.com/assets/colab-badge.svg\" alt=\"Open In Colab\"/></a>"
      ]
    },
    {
      "cell_type": "code",
      "execution_count": 2,
      "metadata": {
        "colab": {
          "base_uri": "https://localhost:8080/"
        },
        "id": "jiqZ68zukj4r",
        "outputId": "77224d71-545b-4894-bd39-afbf83965cfd"
      },
      "outputs": [
        {
          "output_type": "stream",
          "name": "stdout",
          "text": [
            "Введите слово: abudabi\n",
            "d\n"
          ]
        }
      ],
      "source": [
        "# Задание 1\n",
        "word = input('Введите слово: ')\n",
        "length = len(word)\n",
        "mid_letter = length // 2\n",
        "\n",
        "if length % 2 == 1:\n",
        "    print(word[mid_letter])\n",
        "else:\n",
        "    print(word[mid_letter-1:mid_letter+1])"
      ]
    },
    {
      "cell_type": "code",
      "source": [
        "# Задание 2\n",
        "sum_ = 0\n",
        "while True:\n",
        "    numb = float(input('Введите число (0 для завершения): '))\n",
        "    if numb == 0:\n",
        "        break\n",
        "    sum_ += numb\n",
        "print(f'Сумма введенных чисел: {sum_}')"
      ],
      "metadata": {
        "colab": {
          "base_uri": "https://localhost:8080/"
        },
        "id": "e2571LQkklLO",
        "outputId": "00c4c56e-d0ab-4b65-8044-f8a9c385cab3"
      },
      "execution_count": 5,
      "outputs": [
        {
          "output_type": "stream",
          "name": "stdout",
          "text": [
            "Введите число (0 для завершения): 10\n",
            "Введите число (0 для завершения): 0.2\n",
            "Введите число (0 для завершения): 333.0\n",
            "Введите число (0 для завершения): 0.00\n",
            "Сумма введенных чисел: 343.2\n"
          ]
        }
      ]
    },
    {
      "cell_type": "code",
      "source": [
        "# Задание 3\n",
        "boys = ['Peter', 'Alex', 'John', 'Arthur', 'Richard']\n",
        "girls = ['Kate', 'Liza', 'Kira', 'Emma', 'Trisha']\n",
        "\n",
        "if len(boys) != len(girls):\n",
        "    print('Внимание, кто-то может остаться без пары!')\n",
        "else:\n",
        "    sorted_boys = sorted(boys)\n",
        "    sorted_girls = sorted(girls)\n",
        "\n",
        "    print('Идеальные пары:')\n",
        "    for boy, girl in zip(sorted_boys, sorted_girls):\n",
        "        print(f'{boy} и {girl}')"
      ],
      "metadata": {
        "colab": {
          "base_uri": "https://localhost:8080/"
        },
        "id": "hXNUd07AklOP",
        "outputId": "30b3d3aa-4762-4bdb-a73c-41af045a299d"
      },
      "execution_count": 6,
      "outputs": [
        {
          "output_type": "stream",
          "name": "stdout",
          "text": [
            "Идеальные пары:\n",
            "Alex и Emma\n",
            "Arthur и Kate\n",
            "John и Kira\n",
            "Peter и Liza\n",
            "Richard и Trisha\n"
          ]
        }
      ]
    },
    {
      "cell_type": "code",
      "source": [
        "# Задание 4\n",
        "countries_temperature = [\n",
        "    ['Таиланд', [75.2, 77, 78.8, 73.4, 68, 75.2, 77]],\n",
        "    ['Германия', [57.2, 55.4, 59, 59, 53.6]],\n",
        "    ['Россия', [35.6, 37.4, 39.2, 41, 42.8, 39.2, 35.6]],\n",
        "    ['Польша', [50, 50, 53.6, 57.2, 55.4, 55.4]]\n",
        "]\n",
        "\n",
        "print('Средняя температура в странах:')\n",
        "\n",
        "for country_list in countries_temperature:\n",
        "    country = country_list[0]\n",
        "    f_temps = country_list[1]\n",
        "\n",
        "    cel_temps = []\n",
        "    for f in f_temps:\n",
        "        cel = (f - 32) * 5/9\n",
        "        cel_temps.append(cel)\n",
        "\n",
        "    avg_cel = sum(cel_temps) / len(cel_temps)\n",
        "\n",
        "    print(f'{country}  -  {avg_cel:.1f} С')"
      ],
      "metadata": {
        "colab": {
          "base_uri": "https://localhost:8080/"
        },
        "id": "TxjtvEQEklSE",
        "outputId": "64a0fe00-2837-4570-fef8-da0a7e683cd4"
      },
      "execution_count": 7,
      "outputs": [
        {
          "output_type": "stream",
          "name": "stdout",
          "text": [
            "Средняя температура в странах:\n",
            "Таиланд  -  23.9 С\n",
            "Германия  -  13.8 С\n",
            "Россия  -  3.7 С\n",
            "Польша  -  12.0 С\n"
          ]
        }
      ]
    }
  ]
}