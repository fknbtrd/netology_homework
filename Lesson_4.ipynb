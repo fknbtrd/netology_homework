{
  "nbformat": 4,
  "nbformat_minor": 0,
  "metadata": {
    "colab": {
      "provenance": [],
      "authorship_tag": "ABX9TyMdFIs+N8zhOlLa2lnUB4HV",
      "include_colab_link": true
    },
    "kernelspec": {
      "name": "python3",
      "display_name": "Python 3"
    },
    "language_info": {
      "name": "python"
    }
  },
  "cells": [
    {
      "cell_type": "markdown",
      "metadata": {
        "id": "view-in-github",
        "colab_type": "text"
      },
      "source": [
        "<a href=\"https://colab.research.google.com/github/fknbtrd/netology_homework/blob/main/Lesson_4.ipynb\" target=\"_parent\"><img src=\"https://colab.research.google.com/assets/colab-badge.svg\" alt=\"Open In Colab\"/></a>"
      ]
    },
    {
      "cell_type": "code",
      "execution_count": 2,
      "metadata": {
        "colab": {
          "base_uri": "https://localhost:8080/"
        },
        "id": "RKIJbx0WuDMr",
        "outputId": "82b9d5fb-dd70-4d4a-e4d1-0d64e5f515fe"
      },
      "outputs": [
        {
          "name": "stdout",
          "output_type": "stream",
          "text": [
            "Введите команду: q\n"
          ]
        }
      ],
      "source": [
        "documents = [\n",
        "    {'type': 'passport', 'number': '2207 876234', 'name': 'Василий Гупкин'},\n",
        "    {'type': 'invoice', 'number': '11-2', 'name': 'Геннадий Покемонов'},\n",
        "    {'type': 'insurance', 'number': '10006', 'name': 'Аристарх Павлов'}\n",
        "]\n",
        "\n",
        "directories = {\n",
        "    '1': ['2207 876234', '11-2'],\n",
        "    '2': ['10006'],\n",
        "    '3': []\n",
        "}\n",
        "\n",
        "\n",
        "def get_owner(doc_number):\n",
        "    for document in documents:\n",
        "        if document['number'] == doc_number:\n",
        "            return document['name']\n",
        "    return None\n",
        "\n",
        "\n",
        "def get_shelf(doc_number):\n",
        "    for shelf_number, docs in directories.items():\n",
        "        if doc_number in docs:\n",
        "            return shelf_number\n",
        "    return None\n",
        "\n",
        "\n",
        "def get_all_documents():\n",
        "    res = []\n",
        "    for document in documents:\n",
        "        shelf_number = get_shelf(document['number'])\n",
        "        res.append(\n",
        "            f\"№: {document['number']}, тип: {document['type']}, владелец: {document['name']}, полка хранения: {shelf_number}\")\n",
        "    return '\\n'.join(res)\n",
        "\n",
        "\n",
        "def add_new_shelf(shelf_number):\n",
        "    if shelf_number in directories:\n",
        "        return False\n",
        "    directories[shelf_number] = []\n",
        "    return True\n",
        "\n",
        "\n",
        "def main():\n",
        "    while True:\n",
        "        command = input('Введите команду: ').lower()\n",
        "\n",
        "        if command == 'p':\n",
        "            doc_number = input('Введите номер документа: ')\n",
        "            owner = get_owner(doc_number)\n",
        "            print(\n",
        "                f'Владелец документа: {owner}' if owner else 'Документ не найден в базе')\n",
        "\n",
        "        elif command == 's':\n",
        "            doc_number = input('Введите номер документа: ')\n",
        "            shelf_number = get_shelf(doc_number)\n",
        "            print(\n",
        "                f'Документ хранится на полке: {shelf_number}' if shelf_number else 'Документ не найден в базе')\n",
        "\n",
        "        elif command == 'l':\n",
        "            print(get_all_documents())\n",
        "\n",
        "        elif command == 'ads':\n",
        "            shelf_number = input('Введите номер полки: ')\n",
        "            if add_new_shelf(shelf_number):\n",
        "                print(\n",
        "                    f\"Полка добавлена. Текущий перечень полок: {', '.join(sorted(directories.keys()))}.\")\n",
        "            else:\n",
        "                print(\n",
        "                    f\"Такая полка уже существует. Текущий перечень полок: {', '.join(sorted(directories.keys()))}.\")\n",
        "\n",
        "        elif command == 'q':\n",
        "            break\n",
        "\n",
        "        else:\n",
        "            print('Неизвестная команда. Попробуйте снова.')\n",
        "\n",
        "\n",
        "if __name__ == '__main__':\n",
        "    main()\n"
      ]
    }
  ]
}