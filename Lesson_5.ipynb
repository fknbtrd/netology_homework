{
  "nbformat": 4,
  "nbformat_minor": 0,
  "metadata": {
    "colab": {
      "provenance": [],
      "authorship_tag": "ABX9TyMPjxz3u8X07x1qnVQwiPX8",
      "include_colab_link": true
    },
    "kernelspec": {
      "name": "python3",
      "display_name": "Python 3"
    },
    "language_info": {
      "name": "python"
    }
  },
  "cells": [
    {
      "cell_type": "markdown",
      "metadata": {
        "id": "view-in-github",
        "colab_type": "text"
      },
      "source": [
        "<a href=\"https://colab.research.google.com/github/fknbtrd/netology_homework/blob/main/Lesson_5.ipynb\" target=\"_parent\"><img src=\"https://colab.research.google.com/assets/colab-badge.svg\" alt=\"Open In Colab\"/></a>"
      ]
    },
    {
      "cell_type": "code",
      "source": [
        "# задание 1\n",
        "# код подготовлен в VSC, поэтому присутствуют импорты\n",
        "\n",
        "import json\n",
        "\n",
        "\n",
        "def create_log_dict(file_path):\n",
        "    purchases = {}\n",
        "    with open(file_path, 'r', encoding='utf-8') as f:\n",
        "        for line in f:\n",
        "            _logs = json.loads(line)\n",
        "            user_id = _logs.get('user_id')\n",
        "            category = _logs.get('category')\n",
        "            if user_id and user_id != 'user_id':\n",
        "                purchases[user_id] = category\n",
        "    return purchases\n",
        "\n",
        "\n",
        "file_path = r'C:\\Users\\Pasha\\AppData\\Local\\Programs\\Microsoft VS Code\\purchase_log.txt'\n",
        "purchases = create_log_dict(file_path)\n",
        "\n",
        "print(purchases)"
      ],
      "metadata": {
        "id": "Y--F7-NrutFx"
      },
      "execution_count": null,
      "outputs": []
    },
    {
      "cell_type": "code",
      "source": [
        "# задание 2\n",
        "import json\n",
        "\n",
        "\n",
        "purchases = {}\n",
        "with open(r'C:\\Users\\Pasha\\AppData\\Local\\Programs\\Microsoft VS Code\\purchase_log.txt',\n",
        "          'r', encoding='utf-8') as f:\n",
        "    for line in f:\n",
        "        _logs = json.loads(line)\n",
        "        if _logs['user_id'] != 'user_id':\n",
        "            purchases[_logs['user_id']] = _logs['category']\n",
        "\n",
        "with open(r'C:\\Users\\Pasha\\AppData\\Local\\Programs\\Microsoft VS Code\\visit_log.csv',\n",
        "          'r', encoding='utf-8') as visits, \\\n",
        "    open(r'C:\\Users\\Pasha\\AppData\\Local\\Programs\\Microsoft VS Code\\funnel.csv',\n",
        "         'w', encoding='utf-8') as funnel:\n",
        "\n",
        "    funnel.write('user_id,source,category\\n')\n",
        "\n",
        "    for line in visits:\n",
        "        parts = line.strip().split(',')\n",
        "        user_id = parts[0]\n",
        "\n",
        "        if user_id in purchases:\n",
        "            funnel.write(f\"{line.strip()},{purchases[user_id]}\\n\")"
      ],
      "metadata": {
        "id": "27107ro1XBIw"
      },
      "execution_count": null,
      "outputs": []
    }
  ]
}