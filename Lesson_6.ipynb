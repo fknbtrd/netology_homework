{
  "nbformat": 4,
  "nbformat_minor": 0,
  "metadata": {
    "colab": {
      "provenance": [],
      "authorship_tag": "ABX9TyNJEOHkYnT6rkytPpxbJsUm",
      "include_colab_link": true
    },
    "kernelspec": {
      "name": "python3",
      "display_name": "Python 3"
    },
    "language_info": {
      "name": "python"
    }
  },
  "cells": [
    {
      "cell_type": "markdown",
      "metadata": {
        "id": "view-in-github",
        "colab_type": "text"
      },
      "source": [
        "<a href=\"https://colab.research.google.com/github/fknbtrd/netology_homework/blob/main/Lesson_6.ipynb\" target=\"_parent\"><img src=\"https://colab.research.google.com/assets/colab-badge.svg\" alt=\"Open In Colab\"/></a>"
      ]
    },
    {
      "cell_type": "code",
      "execution_count": 2,
      "metadata": {
        "colab": {
          "base_uri": "https://localhost:8080/"
        },
        "id": "ddioN4-3qHKL",
        "outputId": "9bfcecae-a9e2-4c84-99de-e14bbea4e8a8"
      },
      "outputs": [
        {
          "output_type": "stream",
          "name": "stderr",
          "text": [
            "UsageError: Line magic function `%A,` not found.\n"
          ]
        }
      ],
      "source": [
        "# Задание 1\n",
        "%A, %B %d, %Y\n",
        "%A, %d.%m.%y\n",
        "%A, %d %B %Y"
      ]
    },
    {
      "cell_type": "code",
      "source": [
        "# Задание 2\n",
        "def try_date(date_str):\n",
        "    try:\n",
        "        datetime.strptime(date_str, '%Y-%m-%d')\n",
        "        return True\n",
        "    except ValueError:\n",
        "        return False"
      ],
      "metadata": {
        "id": "ZqXBbzRkqIb7"
      },
      "execution_count": 7,
      "outputs": []
    },
    {
      "cell_type": "code",
      "source": [
        "# Задание 3\n",
        "def date_range(start_date: str, end_date: str) -> list:\n",
        "    try:\n",
        "        # Пытаемся преобразовать строки в даты\n",
        "        start = datetime.strptime(start_date, '%Y-%m-%d')\n",
        "        end = datetime.strptime(end_date, '%Y-%m-%d')\n",
        "\n",
        "        # Проверяем, что начальная дата не больше конечной\n",
        "        if start > end:\n",
        "            return []\n",
        "\n",
        "        # Генерируем список дат\n",
        "        date_list = []\n",
        "        current_date = start\n",
        "        while current_date <= end:\n",
        "            date_list.append(current_date.strftime('%Y-%m-%d'))\n",
        "            current_date += timedelta(days=1)\n",
        "\n",
        "        return date_list\n",
        "\n",
        "    except ValueError:\n",
        "        # Если формат даты неверный\n",
        "        return []"
      ],
      "metadata": {
        "id": "u3_6SbLLrn3Z"
      },
      "execution_count": 6,
      "outputs": []
    }
  ]
}