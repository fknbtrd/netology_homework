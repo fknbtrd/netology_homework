{
  "nbformat": 4,
  "nbformat_minor": 0,
  "metadata": {
    "colab": {
      "provenance": [],
      "authorship_tag": "ABX9TyNiv3vC31eW9+QWjYrmU7CR",
      "include_colab_link": true
    },
    "kernelspec": {
      "name": "python3",
      "display_name": "Python 3"
    },
    "language_info": {
      "name": "python"
    }
  },
  "cells": [
    {
      "cell_type": "markdown",
      "metadata": {
        "id": "view-in-github",
        "colab_type": "text"
      },
      "source": [
        "<a href=\"https://colab.research.google.com/github/fknbtrd/netology_homework/blob/main/Untitled2.ipynb\" target=\"_parent\"><img src=\"https://colab.research.google.com/assets/colab-badge.svg\" alt=\"Open In Colab\"/></a>"
      ]
    },
    {
      "cell_type": "code",
      "execution_count": 1,
      "metadata": {
        "colab": {
          "base_uri": "https://localhost:8080/"
        },
        "id": "VRHmNcbpf8m0",
        "outputId": "71d425b6-8890-4115-b936-37586a9b57a5"
      },
      "outputs": [
        {
          "output_type": "stream",
          "name": "stdout",
          "text": [
            "{98, 35, 15, 213, 54, 119}\n"
          ]
        }
      ],
      "source": [
        "#Задание 1\n",
        "ids = {'user1': [213, 213, 213, 15, 213],\n",
        "       'user2': [54, 54, 119, 119, 119],\n",
        "       'user3': [213, 98, 98, 35]}\n",
        "\n",
        "unique_geotags = set()\n",
        "\n",
        "for user_geotags in ids.values():\n",
        "    unique_geotags.update(user_geotags)\n",
        "\n",
        "print(unique_geotags)\n"
      ]
    },
    {
      "cell_type": "code",
      "source": [
        "#Задание 2\n",
        "queries = [\n",
        "    'смотреть сериалы онлайн',\n",
        "    'новости спорта',\n",
        "    'афиша кино',\n",
        "    'курс доллара',\n",
        "    'сериалы этим летом',\n",
        "    'курс по питону',\n",
        "    'сериалы про спорт',\n",
        "]\n",
        "\n",
        "words_count_diсt = {}\n",
        "\n",
        "for query in queries:\n",
        "    words_count = len(query.split())\n",
        "    if words_count in words_count_diсt:\n",
        "        words_count_diсt[words_count] += 1\n",
        "    else:\n",
        "        words_count_diсt[words_count] = 1\n",
        "\n",
        "sum_count = len(queries)\n",
        "\n",
        "for words_count, count in sorted(words_count_diсt.items()):\n",
        "    percentage = (count / sum_count) * 100\n",
        "    print(\n",
        "        f'Поисковых запросов, содержащих {words_count} слов(а): {percentage:.2f}%')\n"
      ],
      "metadata": {
        "colab": {
          "base_uri": "https://localhost:8080/"
        },
        "id": "vqRar5IXf9y4",
        "outputId": "1d486b7e-3919-4e11-95a3-b95653834093"
      },
      "execution_count": 2,
      "outputs": [
        {
          "output_type": "stream",
          "name": "stdout",
          "text": [
            "Поисковых запросов, содержащих 2 слов(а): 42.86%\n",
            "Поисковых запросов, содержащих 3 слов(а): 57.14%\n"
          ]
        }
      ]
    },
    {
      "cell_type": "code",
      "source": [
        "#Задание 3\n",
        "results = {\n",
        "    'vk': {'revenue': 103, 'cost': 98},\n",
        "    'yandex': {'revenue': 179, 'cost': 153},\n",
        "    'facebook': {'revenue': 103, 'cost': 110},\n",
        "    'adwords': {'revenue': 35, 'cost': 34},\n",
        "    'twitter': {'revenue': 11, 'cost': 24},\n",
        "}\n",
        "\n",
        "for source in results:\n",
        "    revenue = results[source]['revenue']\n",
        "    cost = results[source]['cost']\n",
        "    results[source]['ROI'] = round(((revenue / cost) - 1) * 100, 2)\n",
        "\n",
        "sorted_results = dict(sorted(results.items()))\n",
        "print(sorted_results)\n"
      ],
      "metadata": {
        "colab": {
          "base_uri": "https://localhost:8080/"
        },
        "id": "bRtm_Z3Sf91R",
        "outputId": "54ad0611-0f01-4ae5-b96f-fc3c2c8adcba"
      },
      "execution_count": 5,
      "outputs": [
        {
          "output_type": "stream",
          "name": "stdout",
          "text": [
            "{'adwords': {'revenue': 35, 'cost': 34, 'ROI': 2.94}, 'facebook': {'revenue': 103, 'cost': 110, 'ROI': -6.36}, 'twitter': {'revenue': 11, 'cost': 24, 'ROI': -54.17}, 'vk': {'revenue': 103, 'cost': 98, 'ROI': 5.1}, 'yandex': {'revenue': 179, 'cost': 153, 'ROI': 16.99}}\n"
          ]
        }
      ]
    },
    {
      "cell_type": "code",
      "source": [
        "#Задание 4\n",
        "stats = {'facebook': 55, 'yandex': 115, 'vk': 120,\n",
        "         'google': 99, 'email': 42, 'ok': 98}\n",
        "\n",
        "maximum = max(stats, key=stats.get)\n",
        "\n",
        "print(f\"Максимальный объем продаж на рекламном канале: {maximum}\")\n"
      ],
      "metadata": {
        "colab": {
          "base_uri": "https://localhost:8080/"
        },
        "id": "fbVARSvsf94P",
        "outputId": "8a5804a6-cac2-4a88-f41c-9020c7ed1996"
      },
      "execution_count": 6,
      "outputs": [
        {
          "output_type": "stream",
          "name": "stdout",
          "text": [
            "Максимальный объем продаж на рекламном канале: vk\n"
          ]
        }
      ]
    }
  ]
}